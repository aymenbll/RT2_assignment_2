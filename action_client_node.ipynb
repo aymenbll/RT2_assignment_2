{
 "cells": [
  {
   "cell_type": "code",
   "execution_count": 1,
   "id": "8e9f8da7-1543-418a-a212-ac11d25b9baf",
   "metadata": {},
   "outputs": [],
   "source": [
    "import rospy\n",
    "import tf\n",
    "from tf.transformations import quaternion_matrix\n",
    "import actionlib\n",
    "from assignment_2_2023.msg import PlanningAction, PlanningGoal, PlanningActionFeedback, Custom\n",
    "from nav_msgs.msg import Odometry\n",
    "from IPython.display import display, clear_output\n",
    "import ipywidgets as widgets\n",
    "import matplotlib.pyplot as plt\n",
    "import numpy as np\n",
    "from matplotlib.animation import FuncAnimation\n",
    "\n",
    "%matplotlib widget\n",
    "\n",
    "# Global variables for robot position and status\n",
    "latestX = 0.0\n",
    "latestY = 0.0\n",
    "state = \"\"\n",
    "set_target = []\n",
    "canceled_target = []\n",
    "goals = 0\n",
    "first = True\n",
    "reached_targets = 0\n",
    "not_reached_targets = 0\n",
    "current_target = None\n",
    "\n",
    "# Initialize the output widgets\n",
    "output_info = widgets.Output()\n",
    "output_targets = widgets.Output()\n",
    "output_bar = widgets.Output()\n"
   ]
  },
  {
   "cell_type": "code",
   "execution_count": 2,
   "id": "cfff3093-3f34-4592-b4a7-ba9410ee8194",
   "metadata": {},
   "outputs": [
    {
     "data": {
      "application/vnd.jupyter.widget-view+json": {
       "model_id": "4a386248c30c4756ad3472bb4c282101",
       "version_major": 2,
       "version_minor": 0
      },
      "text/plain": [
       "Canvas(toolbar=Toolbar(toolitems=[('Home', 'Reset original view', 'home', 'home'), ('Back', 'Back to previous …"
      ]
     },
     "metadata": {},
     "output_type": "display_data"
    }
   ],
   "source": [
    "class Visualiser:\n",
    "    def __init__(self):\n",
    "        self.fig, self.ax = plt.subplots()\n",
    "        self.ln, = plt.plot([], [], 'g^', markersize=3, linestyle='-', linewidth=1)\n",
    "        self.target_marker, = plt.plot([], [], 'ro', markersize=8, linestyle='')  # Target marker\n",
    "        self.x_data, self.y_data = [], []\n",
    "\n",
    "    def plot_init(self):\n",
    "        self.ax.set_xlim(-10, 10)\n",
    "        self.ax.set_ylim(-10, 10)\n",
    "        return self.ln, self.target_marker\n",
    "\n",
    "    def odom_callback(self, msg):\n",
    "        self.y_data.append(msg.pose.pose.position.y)\n",
    "        self.x_data.append(msg.pose.pose.position.x)\n",
    "        global latestX, latestY\n",
    "        latestX = msg.pose.pose.position.x\n",
    "        latestY = msg.pose.pose.position.y\n",
    "\n",
    "    def update_plot(self, frame):\n",
    "        self.ln.set_data(self.x_data, self.y_data)\n",
    "        if current_target:\n",
    "            self.target_marker.set_data(current_target[0], current_target[1])\n",
    "        return self.ln, self.target_marker\n",
    "\n",
    "vis = Visualiser()\n",
    "ani = FuncAnimation(vis.fig, vis.update_plot, init_func=vis.plot_init, save_count=100)\n",
    "plt.show(block=True)\n"
   ]
  },
  {
   "cell_type": "code",
   "execution_count": 3,
   "id": "5652e38d-6c96-481b-b98f-e83bea9f1144",
   "metadata": {},
   "outputs": [],
   "source": [
    "def feedback_callback(feed):\n",
    "    global state, reached_targets, first\n",
    "    state = feed.feedback.stat\n",
    "    if state == \"Target reached!\" and first:\n",
    "        reached_targets += 1\n",
    "        first = False\n",
    "\n",
    "def plot_bar(ax, x, y):\n",
    "    x_numeric = range(len(x))  # Convert x values to numerical\n",
    "    ax.bar(x_numeric, y, width=0.4, align='center')\n",
    "    ax.set_xticks(x_numeric)\n",
    "    ax.set_xticklabels(x)\n",
    "    ax.set_xlabel('Targets')\n",
    "    ax.set_ylabel('Count')\n",
    "    ax.set_title('Targets Status')\n",
    "    ax.set_ylim(0, 10)  # Set the y-axis limit to 10\n",
    "\n",
    "def update_bar():\n",
    "    y_values = [reached_targets, not_reached_targets]\n",
    "    with output_bar:\n",
    "        clear_output(wait=True)\n",
    "        fig, ax = plt.subplots()\n",
    "        plot_bar(ax, ['Reached Targets', 'Not Reached Targets'], y_values)\n",
    "        plt.show()\n"
   ]
  },
  {
   "cell_type": "code",
   "execution_count": 4,
   "id": "c1cdc82d-c30c-4f9d-a1fb-3599eb1534b0",
   "metadata": {},
   "outputs": [],
   "source": [
    "def update_info():\n",
    "    with output_info:\n",
    "        clear_output(wait=True)\n",
    "        print(f\"The position of X is: {latestX}\")\n",
    "        print(f\"The position of Y is: {latestY}\")\n",
    "        print(f\"The status: {state}\")\n",
    "\n",
    "def update_targets():\n",
    "    with output_targets:\n",
    "        clear_output(wait=True)\n",
    "        print(\"\\nSet targets:\")\n",
    "        for pair in set_target:\n",
    "            print(pair)\n",
    "\n",
    "        print(\"\\nCanceled targets:\")\n",
    "        for pair in canceled_target:\n",
    "            print(pair)\n",
    "\n",
    "        print(f\"\\nReached Targets: {reached_targets}\")\n",
    "        print(f\"Not Reached Targets: {not_reached_targets}\")\n"
   ]
  },
  {
   "cell_type": "code",
   "execution_count": 5,
   "id": "43501d47-1be2-40b3-ae1f-908b3c2e9a48",
   "metadata": {},
   "outputs": [
    {
     "name": "stdout",
     "output_type": "stream",
     "text": [
      "[INFO] [1717179985.603549, 0.000000]: Waiting for action server to start.\n",
      "[INFO] [1717179985.687415, 2445.279000]: Action server started, sending goal.\n"
     ]
    },
    {
     "data": {
      "application/vnd.jupyter.widget-view+json": {
       "model_id": "2d42402446ac4be3b09a348d82c53074",
       "version_major": 2,
       "version_minor": 0
      },
      "text/plain": [
       "VBox(children=(HBox(children=(FloatText(value=0.0, description='X:', layout=Layout(width='200px')), FloatText(…"
      ]
     },
     "metadata": {},
     "output_type": "display_data"
    }
   ],
   "source": [
    "def main():\n",
    "    global pub, goals, x_input, y_input, current_target\n",
    "\n",
    "    rospy.init_node('actcl')\n",
    "\n",
    "    # Action client for \"reaching_goal\"\n",
    "    ac = actionlib.SimpleActionClient('reaching_goal', PlanningAction)\n",
    "\n",
    "    rospy.loginfo(\"Waiting for action server to start.\")\n",
    "    ac.wait_for_server()\n",
    "    rospy.loginfo(\"Action server started, sending goal.\")\n",
    "\n",
    "    # Subscribers and publisher\n",
    "    rospy.Subscriber(\"reaching_goal/feedback\", PlanningActionFeedback, feedback_callback)\n",
    "    rospy.Subscriber(\"odom\", Odometry, vis.odom_callback)\n",
    "    pub = rospy.Publisher(\"custom_pos_vel\", Custom, queue_size=1)\n",
    "\n",
    "    # Create widgets\n",
    "    x_input = widgets.FloatText(description='X:', layout=widgets.Layout(width='200px'))\n",
    "    y_input = widgets.FloatText(description='Y:', layout=widgets.Layout(width='200px'))\n",
    "\n",
    "    def choice1(b):\n",
    "        global x_input, y_input, goals, first, current_target\n",
    "        x = float(x_input.value)\n",
    "        y = float(y_input.value)\n",
    "\n",
    "        goal = PlanningGoal()\n",
    "        goal.target_pose.pose.position.x = x\n",
    "        goal.target_pose.pose.position.y = y\n",
    "\n",
    "        ac.send_goal(goal)\n",
    "        new_pair = (x, y)\n",
    "        set_target.append(new_pair)\n",
    "        goals += 1\n",
    "        current_target = new_pair  # Update current target\n",
    "        first = True\n",
    "        update_info()\n",
    "        update_targets()\n",
    "        update_bar()\n",
    "\n",
    "    def choice2(b):\n",
    "        global goals, not_reached_targets, first, current_target\n",
    "        if set_target and state != \"Target reached!\" and goals > 0:  # Ensure there's a target to cancel\n",
    "            ac.cancel_goal()\n",
    "            canceled_target.append(set_target[-1])\n",
    "            goals -= 1\n",
    "            not_reached_targets += 1\n",
    "            first = True\n",
    "            current_target = None  # Reset current target if canceled\n",
    "            update_info()\n",
    "            update_targets()\n",
    "            update_bar()\n",
    "\n",
    "    def choice3(b):\n",
    "        update_info()\n",
    "        update_targets()\n",
    "        update_bar()\n",
    "\n",
    "    _button = widgets.Button(description='Set Target', layout=widgets.Layout(width='150px'))\n",
    "    _cancel_target_button = widgets.Button(description='Cancel Target', layout=widgets.Layout(width='150px'))\n",
    "    _info_target_button = widgets.Button(description='Info Target', layout=widgets.Layout(width='150px'))\n",
    "\n",
    "    # Layout\n",
    "    _inputs = widgets.HBox([x_input, y_input])\n",
    "    _buttons = widgets.HBox([_button, _cancel_target_button, _info_target_button])\n",
    "    display(widgets.VBox([_inputs, _buttons, output_info, output_targets, output_bar]))\n",
    "\n",
    "    # Register button callbacks\n",
    "    _button.on_click(choice1)\n",
    "    _cancel_target_button.on_click(choice2)\n",
    "    _info_target_button.on_click(choice3)\n",
    "\n",
    "if __name__ == '__main__':\n",
    "    main()\n"
   ]
  },
  {
   "cell_type": "code",
   "execution_count": null,
   "id": "faec26d1-163c-4f21-9e6f-0204bdbff13c",
   "metadata": {},
   "outputs": [],
   "source": []
  }
 ],
 "metadata": {
  "kernelspec": {
   "display_name": "Python 3 (ipykernel)",
   "language": "python",
   "name": "python3"
  },
  "language_info": {
   "codemirror_mode": {
    "name": "ipython",
    "version": 3
   },
   "file_extension": ".py",
   "mimetype": "text/x-python",
   "name": "python",
   "nbconvert_exporter": "python",
   "pygments_lexer": "ipython3",
   "version": "3.8.5"
  }
 },
 "nbformat": 4,
 "nbformat_minor": 5
}
